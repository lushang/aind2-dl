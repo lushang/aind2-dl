{
 "cells": [
  {
   "cell_type": "markdown",
   "metadata": {},
   "source": [
    "# Analyzing IMDB Data in Keras"
   ]
  },
  {
   "cell_type": "code",
   "execution_count": 17,
   "metadata": {},
   "outputs": [],
   "source": [
    "# Imports\n",
    "import numpy as np\n",
    "import keras\n",
    "from keras.datasets import imdb\n",
    "from keras.models import Sequential\n",
    "from keras.layers import Dense, Dropout, Activation\n",
    "from keras.preprocessing.text import Tokenizer\n",
    "import matplotlib.pyplot as plt\n",
    "%matplotlib inline\n",
    "\n",
    "np.random.seed(42)"
   ]
  },
  {
   "cell_type": "markdown",
   "metadata": {},
   "source": [
    "## 1. Loading the data\n",
    "This dataset comes preloaded with Keras, so one simple command will get us training and testing data. There is a parameter for how many words we want to look at. We've set it at 1000, but feel free to experiment."
   ]
  },
  {
   "cell_type": "code",
   "execution_count": 18,
   "metadata": {},
   "outputs": [
    {
     "name": "stdout",
     "output_type": "stream",
     "text": [
      "(25000,)\n",
      "(25000,)\n"
     ]
    }
   ],
   "source": [
    "# Loading the data (it's preloaded in Keras)\n",
    "(x_train, y_train), (x_test, y_test) = imdb.load_data(num_words=1000)\n",
    "\n",
    "print(x_train.shape)\n",
    "print(x_test.shape)"
   ]
  },
  {
   "cell_type": "markdown",
   "metadata": {},
   "source": [
    "## 2. Examining the data\n",
    "Notice that the data has been already pre-processed, where all the words have numbers, and the reviews come in as a vector with the words that the review contains. For example, if the word 'the' is the first one in our dictionary, and a review contains the word 'the', then there is a 1 in the corresponding vector.\n",
    "\n",
    "The output comes as a vector of 1's and 0's, where 1 is a positive sentiment for the review, and 0 is negative."
   ]
  },
  {
   "cell_type": "code",
   "execution_count": 19,
   "metadata": {},
   "outputs": [
    {
     "name": "stdout",
     "output_type": "stream",
     "text": [
      "[1, 14, 22, 16, 43, 530, 973, 2, 2, 65, 458, 2, 66, 2, 4, 173, 36, 256, 5, 25, 100, 43, 838, 112, 50, 670, 2, 9, 35, 480, 284, 5, 150, 4, 172, 112, 167, 2, 336, 385, 39, 4, 172, 2, 2, 17, 546, 38, 13, 447, 4, 192, 50, 16, 6, 147, 2, 19, 14, 22, 4, 2, 2, 469, 4, 22, 71, 87, 12, 16, 43, 530, 38, 76, 15, 13, 2, 4, 22, 17, 515, 17, 12, 16, 626, 18, 2, 5, 62, 386, 12, 8, 316, 8, 106, 5, 4, 2, 2, 16, 480, 66, 2, 33, 4, 130, 12, 16, 38, 619, 5, 25, 124, 51, 36, 135, 48, 25, 2, 33, 6, 22, 12, 215, 28, 77, 52, 5, 14, 407, 16, 82, 2, 8, 4, 107, 117, 2, 15, 256, 4, 2, 7, 2, 5, 723, 36, 71, 43, 530, 476, 26, 400, 317, 46, 7, 4, 2, 2, 13, 104, 88, 4, 381, 15, 297, 98, 32, 2, 56, 26, 141, 6, 194, 2, 18, 4, 226, 22, 21, 134, 476, 26, 480, 5, 144, 30, 2, 18, 51, 36, 28, 224, 92, 25, 104, 4, 226, 65, 16, 38, 2, 88, 12, 16, 283, 5, 16, 2, 113, 103, 32, 15, 16, 2, 19, 178, 32]\n",
      "1\n"
     ]
    }
   ],
   "source": [
    "print(x_train[0])\n",
    "print(y_train[0])"
   ]
  },
  {
   "cell_type": "markdown",
   "metadata": {},
   "source": [
    "## 3. One-hot encoding the output\n",
    "Here, we'll turn the input vectors into (0,1)-vectors. For example, if the pre-processed vector contains the number 14, then in the processed vector, the 14th entry will be 1."
   ]
  },
  {
   "cell_type": "code",
   "execution_count": 20,
   "metadata": {},
   "outputs": [
    {
     "name": "stdout",
     "output_type": "stream",
     "text": [
      "[ 0.  1.  1.  0.  1.  1.  1.  1.  1.  1.  0.  0.  1.  1.  1.  1.  1.  1.\n",
      "  1.  1.  0.  1.  1.  0.  0.  1.  1.  0.  1.  0.  1.  0.  1.  1.  0.  1.\n",
      "  1.  0.  1.  1.  0.  0.  0.  1.  0.  0.  1.  0.  1.  0.  1.  1.  1.  0.\n",
      "  0.  0.  1.  0.  0.  0.  0.  0.  1.  0.  0.  1.  1.  0.  0.  0.  0.  1.\n",
      "  0.  0.  0.  0.  1.  1.  0.  0.  0.  0.  1.  0.  0.  0.  0.  1.  1.  0.\n",
      "  0.  0.  1.  0.  0.  0.  0.  0.  1.  0.  1.  0.  0.  1.  1.  0.  1.  1.\n",
      "  0.  0.  0.  0.  1.  1.  0.  0.  0.  1.  0.  0.  0.  0.  0.  0.  1.  0.\n",
      "  0.  0.  0.  0.  1.  0.  0.  0.  1.  1.  0.  0.  0.  0.  0.  1.  0.  0.\n",
      "  1.  0.  0.  1.  0.  0.  1.  0.  0.  0.  0.  0.  0.  0.  0.  0.  0.  0.\n",
      "  0.  0.  0.  0.  0.  1.  0.  0.  0.  0.  1.  1.  0.  0.  0.  0.  1.  0.\n",
      "  0.  0.  0.  0.  0.  0.  0.  0.  0.  0.  0.  0.  1.  0.  1.  0.  0.  0.\n",
      "  0.  0.  0.  0.  0.  0.  0.  0.  0.  0.  0.  0.  0.  0.  0.  0.  0.  1.\n",
      "  0.  0.  0.  0.  0.  0.  0.  0.  1.  0.  1.  0.  0.  0.  0.  0.  0.  0.\n",
      "  0.  0.  0.  0.  0.  0.  0.  0.  0.  0.  0.  0.  0.  0.  0.  0.  0.  0.\n",
      "  0.  0.  0.  0.  1.  0.  0.  0.  0.  0.  0.  0.  0.  0.  0.  0.  0.  0.\n",
      "  0.  0.  0.  0.  0.  0.  0.  0.  0.  0.  0.  0.  0.  1.  1.  0.  0.  0.\n",
      "  0.  0.  0.  0.  0.  0.  0.  0.  0.  1.  0.  0.  0.  0.  0.  0.  0.  0.\n",
      "  0.  0.  0.  0.  0.  0.  0.  0.  0.  0.  1.  1.  0.  0.  0.  0.  0.  0.\n",
      "  0.  0.  0.  0.  0.  0.  0.  0.  0.  0.  0.  0.  1.  0.  0.  0.  0.  0.\n",
      "  0.  0.  0.  0.  0.  0.  0.  0.  0.  0.  0.  0.  0.  0.  0.  0.  0.  0.\n",
      "  0.  0.  0.  0.  0.  0.  0.  0.  0.  0.  0.  0.  0.  0.  0.  0.  0.  0.\n",
      "  0.  0.  0.  1.  0.  0.  0.  1.  1.  0.  0.  0.  0.  0.  0.  0.  0.  0.\n",
      "  0.  0.  0.  0.  1.  0.  0.  0.  0.  0.  0.  1.  0.  0.  0.  0.  0.  0.\n",
      "  0.  0.  0.  0.  0.  0.  0.  0.  0.  0.  0.  0.  0.  0.  0.  0.  0.  0.\n",
      "  0.  0.  0.  0.  0.  0.  0.  0.  0.  0.  0.  0.  0.  0.  0.  1.  0.  0.\n",
      "  0.  0.  0.  0.  0.  0.  0.  0.  1.  0.  0.  0.  0.  0.  0.  0.  0.  0.\n",
      "  0.  1.  0.  0.  0.  0.  0.  0.  1.  0.  0.  0.  1.  0.  0.  0.  0.  0.\n",
      "  0.  0.  0.  0.  0.  0.  0.  0.  0.  0.  0.  0.  0.  0.  0.  0.  0.  0.\n",
      "  0.  0.  0.  0.  0.  0.  0.  0.  0.  0.  0.  1.  0.  0.  0.  0.  0.  0.\n",
      "  0.  0.  0.  0.  0.  0.  0.  0.  1.  0.  0.  0.  0.  0.  0.  0.  0.  0.\n",
      "  0.  0.  0.  0.  0.  0.  1.  0.  0.  0.  0.  0.  0.  0.  0.  0.  0.  0.\n",
      "  0.  0.  0.  0.  0.  0.  0.  0.  0.  0.  0.  0.  0.  0.  0.  0.  0.  0.\n",
      "  0.  0.  0.  0.  0.  0.  0.  0.  0.  0.  0.  0.  0.  0.  0.  0.  0.  0.\n",
      "  0.  0.  0.  0.  0.  0.  0.  0.  0.  0.  0.  0.  0.  0.  0.  0.  0.  0.\n",
      "  0.  0.  0.  0.  0.  0.  0.  1.  0.  0.  0.  0.  0.  0.  1.  0.  0.  0.\n",
      "  0.  0.  0.  0.  0.  0.  0.  0.  0.  0.  0.  0.  0.  0.  0.  0.  0.  0.\n",
      "  0.  0.  0.  0.  0.  0.  0.  0.  0.  0.  0.  0.  0.  0.  0.  0.  0.  0.\n",
      "  0.  0.  0.  0.  1.  0.  0.  0.  0.  0.  0.  0.  0.  0.  0.  0.  0.  0.\n",
      "  0.  0.  0.  0.  0.  0.  0.  0.  0.  0.  0.  0.  0.  0.  0.  0.  0.  0.\n",
      "  0.  0.  0.  0.  0.  0.  0.  0.  0.  0.  0.  0.  0.  0.  0.  0.  0.  0.\n",
      "  0.  0.  0.  1.  0.  0.  0.  0.  0.  0.  0.  0.  0.  0.  0.  0.  0.  0.\n",
      "  0.  0.  0.  0.  0.  0.  0.  0.  0.  0.  0.  0.  0.  0.  0.  0.  0.  0.\n",
      "  0.  0.  0.  0.  0.  0.  0.  0.  0.  0.  0.  0.  0.  0.  0.  0.  0.  0.\n",
      "  0.  0.  0.  0.  0.  0.  0.  0.  0.  0.  0.  0.  0.  0.  0.  0.  0.  0.\n",
      "  0.  0.  0.  0.  0.  0.  0.  0.  0.  0.  0.  0.  0.  0.  0.  0.  0.  0.\n",
      "  0.  0.  0.  0.  0.  0.  0.  0.  0.  0.  0.  0.  0.  0.  0.  0.  0.  0.\n",
      "  0.  0.  0.  0.  0.  0.  0.  0.  0.  0.  1.  0.  0.  0.  0.  0.  0.  0.\n",
      "  0.  0.  0.  0.  0.  0.  0.  0.  0.  0.  0.  0.  0.  0.  0.  0.  0.  0.\n",
      "  0.  0.  0.  0.  0.  0.  0.  0.  0.  0.  0.  0.  0.  0.  0.  0.  0.  0.\n",
      "  0.  0.  0.  0.  0.  0.  0.  0.  0.  0.  0.  0.  0.  0.  0.  0.  0.  0.\n",
      "  0.  0.  0.  0.  0.  0.  0.  0.  0.  0.  0.  0.  0.  0.  0.  0.  0.  0.\n",
      "  0.  0.  0.  0.  0.  0.  0.  0.  0.  0.  0.  0.  0.  0.  0.  0.  0.  0.\n",
      "  0.  0.  0.  0.  0.  0.  0.  0.  0.  0.  0.  0.  0.  0.  0.  0.  0.  0.\n",
      "  0.  0.  0.  0.  0.  0.  0.  0.  0.  0.  0.  0.  0.  0.  0.  0.  0.  0.\n",
      "  0.  1.  0.  0.  0.  0.  0.  0.  0.  0.  0.  0.  0.  0.  0.  0.  0.  0.\n",
      "  0.  0.  0.  0.  0.  0.  0.  0.  0.  0.]\n"
     ]
    }
   ],
   "source": [
    "# One-hot encoding the output into vector mode, each of length 1000\n",
    "tokenizer = Tokenizer(num_words=1000)\n",
    "x_train = tokenizer.sequences_to_matrix(x_train, mode='binary')\n",
    "x_test = tokenizer.sequences_to_matrix(x_test, mode='binary')\n",
    "print(x_train[0])"
   ]
  },
  {
   "cell_type": "markdown",
   "metadata": {},
   "source": [
    "And we'll also one-hot encode the output."
   ]
  },
  {
   "cell_type": "code",
   "execution_count": 21,
   "metadata": {},
   "outputs": [
    {
     "name": "stdout",
     "output_type": "stream",
     "text": [
      "(25000, 2)\n",
      "(25000, 2)\n"
     ]
    }
   ],
   "source": [
    "# One-hot encoding the output\n",
    "num_classes = 2\n",
    "y_train = keras.utils.to_categorical(y_train, num_classes)\n",
    "y_test = keras.utils.to_categorical(y_test, num_classes)\n",
    "print(y_train.shape)\n",
    "print(y_test.shape)"
   ]
  },
  {
   "cell_type": "markdown",
   "metadata": {},
   "source": [
    "## 4. Building the  model architecture\n",
    "Build a model here using sequential. Feel free to experiment with different layers and sizes! Also, experiment adding dropout to reduce overfitting."
   ]
  },
  {
   "cell_type": "code",
   "execution_count": 60,
   "metadata": {},
   "outputs": [
    {
     "name": "stdout",
     "output_type": "stream",
     "text": [
      "_________________________________________________________________\n",
      "Layer (type)                 Output Shape              Param #   \n",
      "=================================================================\n",
      "dense_47 (Dense)             (None, 1000)              1001000   \n",
      "_________________________________________________________________\n",
      "dropout_28 (Dropout)         (None, 1000)              0         \n",
      "_________________________________________________________________\n",
      "dense_48 (Dense)             (None, 500)               500500    \n",
      "_________________________________________________________________\n",
      "dense_49 (Dense)             (None, 2)                 1002      \n",
      "=================================================================\n",
      "Total params: 1,502,502\n",
      "Trainable params: 1,502,502\n",
      "Non-trainable params: 0\n",
      "_________________________________________________________________\n"
     ]
    }
   ],
   "source": [
    "# TODO: Build the model architecture\n",
    "model = Sequential()\n",
    "model.add(Dense(1000, activation='relu', input_dim=x_train.shape[1]))\n",
    "model.add(Dropout(0.1))\n",
    "model.add(Dense(500, activation='relu'))\n",
    "# model.add(Dropout(0.1))\n",
    "# model.add(Dense(250, activation='relu'))\n",
    "# model.add(Dropout(0.2))\n",
    "model.add(Dense(num_classes, activation='softmax'))\n",
    "\n",
    "# TODO: Compile the model using a loss function and an optimizer.\n",
    "model.compile(loss = 'categorical_crossentropy', optimizer='rmsprop', metrics=['accuracy'])\n",
    "model.summary()"
   ]
  },
  {
   "cell_type": "markdown",
   "metadata": {},
   "source": [
    "## 5. Training the model\n",
    "Run the model here. Experiment with different batch_size, and number of epochs!"
   ]
  },
  {
   "cell_type": "code",
   "execution_count": 61,
   "metadata": {},
   "outputs": [
    {
     "name": "stdout",
     "output_type": "stream",
     "text": [
      "Train on 12500 samples, validate on 12500 samples\n",
      "Epoch 1/50\n",
      "12500/12500 [==============================] - 0s - loss: 0.5505 - acc: 0.7573 - val_loss: 0.3429 - val_acc: 0.8503\n",
      "Epoch 2/50\n",
      "12500/12500 [==============================] - 0s - loss: 0.3287 - acc: 0.8616 - val_loss: 0.3321 - val_acc: 0.8558\n",
      "Epoch 3/50\n",
      "12500/12500 [==============================] - 0s - loss: 0.2222 - acc: 0.9114 - val_loss: 0.3558 - val_acc: 0.8563\n",
      "Epoch 4/50\n",
      "12500/12500 [==============================] - 0s - loss: 0.1206 - acc: 0.9592 - val_loss: 0.4430 - val_acc: 0.8535\n",
      "Epoch 5/50\n",
      "12500/12500 [==============================] - 0s - loss: 0.0540 - acc: 0.9855 - val_loss: 0.6119 - val_acc: 0.8498\n",
      "Epoch 6/50\n",
      "12500/12500 [==============================] - 0s - loss: 0.0863 - acc: 0.9881 - val_loss: 0.6516 - val_acc: 0.8515\n",
      "Epoch 7/50\n",
      "12500/12500 [==============================] - 0s - loss: 0.0723 - acc: 0.9901 - val_loss: 0.7030 - val_acc: 0.8529\n",
      "Epoch 8/50\n",
      "12500/12500 [==============================] - 0s - loss: 4.2058e-04 - acc: 0.9999 - val_loss: 0.8429 - val_acc: 0.8529\n",
      "Epoch 9/50\n",
      "12500/12500 [==============================] - 0s - loss: 0.1014 - acc: 0.9890 - val_loss: 0.8701 - val_acc: 0.8537\n",
      "Epoch 10/50\n",
      "12500/12500 [==============================] - 0s - loss: 1.5135e-04 - acc: 0.9999 - val_loss: 0.9786 - val_acc: 0.8501\n",
      "Epoch 11/50\n",
      "12500/12500 [==============================] - 0s - loss: 0.0824 - acc: 0.9918 - val_loss: 0.9406 - val_acc: 0.8516\n",
      "Epoch 12/50\n",
      "12500/12500 [==============================] - 0s - loss: 0.0498 - acc: 0.9916 - val_loss: 0.9023 - val_acc: 0.8505\n",
      "Epoch 13/50\n",
      "12500/12500 [==============================] - 0s - loss: 9.3564e-05 - acc: 1.0000 - val_loss: 0.9746 - val_acc: 0.8524\n",
      "Epoch 14/50\n",
      "12500/12500 [==============================] - 0s - loss: 0.0852 - acc: 0.9898 - val_loss: 1.0087 - val_acc: 0.8524\n",
      "Epoch 15/50\n",
      "12500/12500 [==============================] - 0s - loss: 1.7194e-05 - acc: 1.0000 - val_loss: 1.0500 - val_acc: 0.8538\n",
      "Epoch 16/50\n",
      "12500/12500 [==============================] - 0s - loss: 4.4513e-06 - acc: 1.0000 - val_loss: 1.1025 - val_acc: 0.8529\n",
      "Epoch 17/50\n",
      "12500/12500 [==============================] - 0s - loss: 0.0748 - acc: 0.9916 - val_loss: 1.0814 - val_acc: 0.8537\n",
      "Epoch 18/50\n",
      "12500/12500 [==============================] - 0s - loss: 3.5342e-06 - acc: 1.0000 - val_loss: 1.1272 - val_acc: 0.8525\n",
      "Epoch 19/50\n",
      "12500/12500 [==============================] - 0s - loss: 7.5588e-07 - acc: 1.0000 - val_loss: 1.1870 - val_acc: 0.8528\n",
      "Epoch 20/50\n",
      "12500/12500 [==============================] - 0s - loss: 0.0765 - acc: 0.9909 - val_loss: 1.1947 - val_acc: 0.8501\n",
      "Epoch 21/50\n",
      "12500/12500 [==============================] - 0s - loss: 1.0992e-06 - acc: 1.0000 - val_loss: 1.1967 - val_acc: 0.8517\n",
      "Epoch 22/50\n",
      "12500/12500 [==============================] - 0s - loss: 3.9521e-07 - acc: 1.0000 - val_loss: 1.2157 - val_acc: 0.8518\n",
      "Epoch 23/50\n",
      "12500/12500 [==============================] - 0s - loss: 0.0644 - acc: 0.9926 - val_loss: 1.2262 - val_acc: 0.8530\n",
      "Epoch 24/50\n",
      "12500/12500 [==============================] - 0s - loss: 1.4466e-06 - acc: 1.0000 - val_loss: 1.2261 - val_acc: 0.8527\n",
      "Epoch 25/50\n",
      "12500/12500 [==============================] - 0s - loss: 3.7913e-07 - acc: 1.0000 - val_loss: 1.2413 - val_acc: 0.8516\n",
      "Epoch 26/50\n",
      "12500/12500 [==============================] - 0s - loss: 0.0553 - acc: 0.9933 - val_loss: 1.2558 - val_acc: 0.8516\n",
      "Epoch 27/50\n",
      "12500/12500 [==============================] - 0s - loss: 1.2075e-06 - acc: 1.0000 - val_loss: 1.3358 - val_acc: 0.8445\n",
      "Epoch 28/50\n",
      "12500/12500 [==============================] - 0s - loss: 2.0082e-06 - acc: 1.0000 - val_loss: 1.2856 - val_acc: 0.8510\n",
      "Epoch 29/50\n",
      "12500/12500 [==============================] - 0s - loss: 2.1523e-07 - acc: 1.0000 - val_loss: 1.5505 - val_acc: 0.8311\n",
      "Epoch 30/50\n",
      "12500/12500 [==============================] - 0s - loss: 0.0673 - acc: 0.9927 - val_loss: 1.2749 - val_acc: 0.8491\n",
      "Epoch 31/50\n",
      "12500/12500 [==============================] - 0s - loss: 4.5495e-07 - acc: 1.0000 - val_loss: 1.2910 - val_acc: 0.8514\n",
      "Epoch 32/50\n",
      "12500/12500 [==============================] - 0s - loss: 0.0640 - acc: 0.9935 - val_loss: 1.2639 - val_acc: 0.8492\n",
      "Epoch 33/50\n",
      "12500/12500 [==============================] - 0s - loss: 8.8864e-07 - acc: 1.0000 - val_loss: 1.2994 - val_acc: 0.8512\n",
      "Epoch 34/50\n",
      "12500/12500 [==============================] - 0s - loss: 2.4981e-07 - acc: 1.0000 - val_loss: 1.3316 - val_acc: 0.8512\n",
      "Epoch 35/50\n",
      "12500/12500 [==============================] - 0s - loss: 1.6513e-07 - acc: 1.0000 - val_loss: 1.3657 - val_acc: 0.8500\n",
      "Epoch 36/50\n",
      "12500/12500 [==============================] - 0s - loss: 0.0520 - acc: 0.9953 - val_loss: 1.5592 - val_acc: 0.8410\n",
      "Epoch 37/50\n",
      "12500/12500 [==============================] - 0s - loss: 4.7819e-06 - acc: 1.0000 - val_loss: 1.4673 - val_acc: 0.8453\n",
      "Epoch 38/50\n",
      "12500/12500 [==============================] - 0s - loss: 0.0411 - acc: 0.9947 - val_loss: 1.3733 - val_acc: 0.8468\n",
      "Epoch 39/50\n",
      "12500/12500 [==============================] - 0s - loss: 8.6701e-07 - acc: 1.0000 - val_loss: 1.3794 - val_acc: 0.8480\n",
      "Epoch 40/50\n",
      "12500/12500 [==============================] - 0s - loss: 4.0166e-07 - acc: 1.0000 - val_loss: 1.3921 - val_acc: 0.8496\n",
      "Epoch 41/50\n",
      "12500/12500 [==============================] - 0s - loss: 1.4668e-07 - acc: 1.0000 - val_loss: 1.4921 - val_acc: 0.8466\n",
      "Epoch 42/50\n",
      "12500/12500 [==============================] - 0s - loss: 0.0477 - acc: 0.9946 - val_loss: 1.5523 - val_acc: 0.8446\n",
      "Epoch 43/50\n",
      "12500/12500 [==============================] - 0s - loss: 1.6942e-06 - acc: 1.0000 - val_loss: 1.5456 - val_acc: 0.8446\n",
      "Epoch 44/50\n",
      "12500/12500 [==============================] - 0s - loss: 9.3570e-07 - acc: 1.0000 - val_loss: 1.5351 - val_acc: 0.8448\n",
      "Epoch 45/50\n",
      "12500/12500 [==============================] - 0s - loss: 1.3638e-07 - acc: 1.0000 - val_loss: 1.5277 - val_acc: 0.8464\n",
      "Epoch 46/50\n",
      "12500/12500 [==============================] - 0s - loss: 0.0257 - acc: 0.9965 - val_loss: 1.4703 - val_acc: 0.8510\n",
      "Epoch 47/50\n",
      "12500/12500 [==============================] - 0s - loss: 4.2696e-05 - acc: 1.0000 - val_loss: 1.6013 - val_acc: 0.8408\n",
      "Epoch 48/50\n",
      "12500/12500 [==============================] - 0s - loss: 1.4500e-06 - acc: 1.0000 - val_loss: 1.4820 - val_acc: 0.8507\n",
      "Epoch 49/50\n",
      "12500/12500 [==============================] - 0s - loss: 1.3575e-07 - acc: 1.0000 - val_loss: 1.4835 - val_acc: 0.8506\n",
      "Epoch 50/50\n",
      "12500/12500 [==============================] - 0s - loss: 1.2510e-07 - acc: 1.0000 - val_loss: 1.5013 - val_acc: 0.8531\n",
      "time elapse:  35.72995162010193\n"
     ]
    }
   ],
   "source": [
    "# TODO: Run the model. Feel free to experiment with different batch sizes and number of epochs.\n",
    "import time\n",
    "start = time.time()\n",
    "model.fit(x_train, y_train, validation_split=0.5, epochs=50, batch_size=200, verbose=1)\n",
    "end = time.time()\n",
    "print('time elapse: ', end-start)"
   ]
  },
  {
   "cell_type": "markdown",
   "metadata": {},
   "source": [
    "## 6. Evaluating the model\n",
    "This will give you the accuracy of the model, as evaluated on the testing set. Can you get something over 85%?"
   ]
  },
  {
   "cell_type": "code",
   "execution_count": 62,
   "metadata": {},
   "outputs": [
    {
     "name": "stdout",
     "output_type": "stream",
     "text": [
      "Accuracy:  0.85188\n"
     ]
    }
   ],
   "source": [
    "score = model.evaluate(x_test, y_test, verbose=0)\n",
    "print(\"Accuracy: \", score[1])"
   ]
  },
  {
   "cell_type": "code",
   "execution_count": null,
   "metadata": {},
   "outputs": [],
   "source": []
  }
 ],
 "metadata": {
  "kernelspec": {
   "display_name": "Python 3",
   "language": "python",
   "name": "python3"
  },
  "language_info": {
   "codemirror_mode": {
    "name": "ipython",
    "version": 3
   },
   "file_extension": ".py",
   "mimetype": "text/x-python",
   "name": "python",
   "nbconvert_exporter": "python",
   "pygments_lexer": "ipython3",
   "version": "3.5.2"
  }
 },
 "nbformat": 4,
 "nbformat_minor": 2
}
